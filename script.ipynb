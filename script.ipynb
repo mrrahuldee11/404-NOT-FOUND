{
 "cells": [
  {
   "cell_type": "code",
   "execution_count": 10,
   "metadata": {},
   "outputs": [],
   "source": [
    "import pandas as pd\n",
    "\n",
    "# Load data\n",
    "workers = pd.read_csv('workers.csv')\n",
    "job_locations = pd.read_csv('job_locations.csv')\n",
    "\n",
    "# Example preprocessing steps\n",
    "# Convert categorical variables to numerical ones (e.g., skill set, language proficiency)\n",
    "workers['skill_set'] = workers['skill_set'].astype('category').cat.codes\n",
    "workers['language_proficiency'] = workers['language_proficiency'].astype('category').cat.codes\n",
    "job_locations['required_skill_set'] = job_locations['required_skill_set'].astype('category').cat.codes\n",
    "# # Calculate proximity (assuming lat/lon data for simplicity)\n",
    "# def calculate_distance(lat1, lon1, lat2, lon2):\n",
    "#     from geopy.distance import geodesic\n",
    "#     return geodesic((lat1, lon1), (lat2, lon2)).km\n",
    "\n",
    "# job_locations['proximity'] = job_locations.apply(\n",
    "#     lambda row: calculate_distance(row['lat'], row['lon'], workers['lat'], workers['lon']), axis=1\n",
    "# )\n"
   ]
  },
  {
   "cell_type": "code",
   "execution_count": 11,
   "metadata": {},
   "outputs": [
    {
     "name": "stdout",
     "output_type": "stream",
     "text": [
      "   worker_id  job_location_id  skill_match  cost\n",
      "0          1              101         True    25\n",
      "1          2              102         True    30\n",
      "2          3              103         True    28\n",
      "3          4              104         True    35\n",
      "4          5              105         True    26\n"
     ]
    }
   ],
   "source": [
    "# Create features for matching\n",
    "features = pd.DataFrame()\n",
    "features['worker_id'] = workers['worker_id']\n",
    "features['job_location_id'] = job_locations['job_location_id']\n",
    "features['skill_match'] = (workers['skill_set'] == job_locations['required_skill_set']).astype(int)\n",
    "# features['proximity'] = job_locations['proximity']\n",
    "features['cost'] = workers['wage_rate']\n",
    "print(features)\n",
    "\n",
    "# You can add more features as necessary\n"
   ]
  },
  {
   "cell_type": "code",
   "execution_count": 12,
   "metadata": {},
   "outputs": [
    {
     "name": "stdout",
     "output_type": "stream",
     "text": [
      "Accuracy: 1.0\n"
     ]
    }
   ],
   "source": [
    "from sklearn.model_selection import train_test_split\n",
    "from sklearn.ensemble import RandomForestClassifier\n",
    "from sklearn.metrics import accuracy_score\n",
    "\n",
    "# Assume you have a label indicating successful matches\n",
    "# features['label'] = ... # Your label data here\n",
    "\n",
    "# Split data\n",
    "X = features.drop('skill_match', axis=1)\n",
    "y = features['skill_match']\n",
    "X_train, X_test, y_train, y_test = train_test_split(X, y, test_size=0.2, random_state=42)\n",
    "\n",
    "# Train model\n",
    "model = RandomForestClassifier(n_estimators=100, random_state=42)\n",
    "model.fit(X_train, y_train)\n",
    "\n",
    "# Evaluate model\n",
    "y_pred = model.predict(X_test)\n",
    "print('Accuracy:', accuracy_score(y_test, y_pred))\n"
   ]
  }
 ],
 "metadata": {
  "kernelspec": {
   "display_name": "myenv",
   "language": "python",
   "name": "python3"
  },
  "language_info": {
   "codemirror_mode": {
    "name": "ipython",
    "version": 3
   },
   "file_extension": ".py",
   "mimetype": "text/x-python",
   "name": "python",
   "nbconvert_exporter": "python",
   "pygments_lexer": "ipython3",
   "version": "3.10.12"
  }
 },
 "nbformat": 4,
 "nbformat_minor": 2
}
