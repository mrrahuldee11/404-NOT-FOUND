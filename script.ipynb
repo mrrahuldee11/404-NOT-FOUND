{
 "cells": [
  {
   "cell_type": "code",
   "execution_count": 10,
   "metadata": {},
   "outputs": [],
   "source": [
    "import pandas as pd\n",
    "\n",
    "# Load data\n",
    "workers = pd.read_csv('workers.csv')\n",
    "job_locations = pd.read_csv('job_locations.csv')\n",
    "\n",
    "# Example preprocessing steps\n",
    "# Convert categorical variables to numerical ones (e.g., skill set, language proficiency)\n",
    "workers['skill_set'] = workers['skill_set'].astype('category').cat.codes\n",
    "workers['language_proficiency'] = workers['language_proficiency'].astype('category').cat.codes\n",
    "job_locations['required_skill_set'] = job_locations['required_skill_set'].astype('category').cat.codes\n",
    "# # Calculate proximity (assuming lat/lon data for simplicity)\n",
    "# def calculate_distance(lat1, lon1, lat2, lon2):\n",
    "#     from geopy.distance import geodesic\n",
    "#     return geodesic((lat1, lon1), (lat2, lon2)).km\n",
    "\n",
    "# job_locations['proximity'] = job_locations.apply(\n",
    "#     lambda row: calculate_distance(row['lat'], row['lon'], workers['lat'], workers['lon']), axis=1\n",
    "# )\n"
   ]
  },
  {
   "cell_type": "code",
   "execution_count": 11,
   "metadata": {},
   "outputs": [
    {
     "name": "stdout",
     "output_type": "stream",
     "text": [
      "   worker_id  job_location_id  skill_match  cost\n",
      "0          1              101         True    25\n",
      "1          2              102         True    30\n",
      "2          3              103         True    28\n",
      "3          4              104         True    35\n",
      "4          5              105         True    26\n"
     ]
    }
   ],
   "source": [
    "# Create features for matching\n",
    "features = pd.DataFrame()\n",
    "features['worker_id'] = workers['worker_id']\n",
    "features['job_location_id'] = job_locations['job_location_id']\n",
    "features['skill_match'] = (workers['skill_set'] == job_locations['required_skill_set']).astype(int)\n",
    "# features['proximity'] = job_locations['proximity']\n",
    "features['cost'] = workers['wage_rate']\n",
    "print(features)\n",
    "\n",
    "# You can add more features as necessary\n"
   ]
  },
  {
   "cell_type": "code",
   "execution_count": 12,
   "metadata": {},
   "outputs": [
    {
     "name": "stdout",
     "output_type": "stream",
     "text": [
      "Accuracy: 1.0\n"
     ]
    }
   ],
   "source": [
    "from sklearn.model_selection import train_test_split\n",
    "from sklearn.ensemble import RandomForestClassifier\n",
    "from sklearn.metrics import accuracy_score\n",
    "\n",
    "# Assume you have a label indicating successful matches\n",
    "# features['label'] = ... # Your label data here\n",
    "\n",
    "# Split data\n",
    "X = features.drop('skill_match', axis=1)\n",
    "y = features['skill_match']\n",
    "X_train, X_test, y_train, y_test = train_test_split(X, y, test_size=0.2, random_state=42)\n",
    "\n",
    "# Train model\n",
    "model = RandomForestClassifier(n_estimators=100, random_state=42)\n",
    "model.fit(X_train, y_train)\n",
    "\n",
    "# Evaluate model\n",
    "y_pred = model.predict(X_test)\n",
    "print('Accuracy:', accuracy_score(y_test, y_pred))\n"
   ]
  },
  {
   "cell_type": "code",
   "execution_count": 6,
   "metadata": {},
   "outputs": [],
   "source": [
    "def calculate_productivity(experience_level, past_performance, health_status):\n",
    "    # Assign numeric values to experience levels and health statuses\n",
    "    experience_value = {'Beginner': 0.8, 'Intermediate': 1.0, 'Advanced': 1.2}\n",
    "    health_value = {'Healthy': 1.0, 'Minor Issues': 0.8, 'Major Issues': 0.5}\n",
    "    \n",
    "    # Calculate productivity score\n",
    "    score = (experience_value[experience_level] * past_performance * health_value[health_status])\n",
    "    return round(score, 2)"
   ]
  },
  {
   "cell_type": "markdown",
   "metadata": {},
   "source": [
    "Generate workers data (generated_workers.csv)"
   ]
  },
  {
   "cell_type": "code",
   "execution_count": 16,
   "metadata": {},
   "outputs": [],
   "source": [
    "import pandas as pd\n",
    "from faker import Faker\n",
    "import random\n",
    "\n",
    "fake = Faker()\n",
    "\n",
    "# Define the number of records\n",
    "num_records = 2000\n",
    "\n",
    "# Predefined lists for random choices\n",
    "skill_sets = ['Plumbing', 'Electrical', 'Carpentry', 'Painting', 'Landscaping', 'HVAC', 'Roofing', 'Drywall', 'Flooring', 'Heavy Machinery Operation']\n",
    "experience_levels = ['Beginner', 'Intermediate', 'Advanced']\n",
    "health_statuses = ['Healthy', 'Minor Issues', 'Major Issues']\n",
    "job_sites = ['A', 'B', 'C', 'D', 'E', 'F', 'G', 'H', 'I', 'J']\n",
    "# training_statuses = ['Completed', 'In Progress', 'Not Started']\n",
    "# work_conditions = ['Indoor', 'Outdoor', 'High-altitude', 'Underwater']\n",
    "\n",
    "def generate_record(worker_id):\n",
    "    experience_level = random.choice(experience_levels)\n",
    "    past_performance = random.randint(1, 10)  # Assuming 1 to 10 scale\n",
    "    health_status = random.choice(health_statuses)\n",
    "    \n",
    "    return {\n",
    "        'worker_id': worker_id,\n",
    "        'name': fake.name(),\n",
    "        'skill_set': random.choice(skill_sets),\n",
    "        'experience_level': experience_level,\n",
    "        'availability': random.choice(['Available', 'Unavailable']),\n",
    "        'health_status': health_status,\n",
    "        'past_performance': past_performance,\n",
    "        # 'wage_rate': round(random.uniform(15, 50), 2),  # Assuming hourly rate in dollars\n",
    "        'job_sites': random.choice(job_sites),  # New column for job sites\n",
    "        'productivity_score': calculate_productivity(experience_level, past_performance, health_status)  # New column for productivity score\n",
    "    }\n",
    "\n",
    "# Generate records\n",
    "records = [generate_record(i+1) for i in range(num_records)]\n",
    "\n",
    "# Convert to DataFrame\n",
    "df = pd.DataFrame(records)\n",
    "\n",
    "# Save to CSV\n",
    "df.to_csv('generated_workers.csv', index=False)"
   ]
  },
  {
   "cell_type": "code",
   "execution_count": 17,
   "metadata": {},
   "outputs": [],
   "source": [
    "import random\n",
    "import csv\n",
    "\n",
    "# Assuming skill_set is a list of skills you want to use as keys\n",
    "skill_set = ['Plumbing', 'Electrical', 'Carpentry', 'Painting', 'Landscaping', 'HVAC', 'Roofing', 'Drywall', 'Flooring', 'Heavy Machinery Operation']\n",
    "\n",
    "# Generating a dictionary with skills as keys and random days (1-100) as values\n",
    "skill_days_dict = {skill: random.randint(1, 100) for skill in skill_set}\n",
    "\n",
    "job_sites = [chr(i) for i in range(ord('A'), ord('J')+1)]  # Generates list ['A', 'B', ..., 'J']\n",
    "safety_requirements = ['low', 'med', 'high']\n",
    "\n",
    "import statistics\n",
    "\n",
    "records = []\n",
    "for job_site in job_sites:\n",
    "    unique_skill_days_dict = {skill: random.randint(1, 100) for skill in skill_set}\n",
    "    skills_list = [{'skill': skill, 'days': days} for skill, days in unique_skill_days_dict.items()]\n",
    "    \n",
    "    mean_days = statistics.mean([skill['days'] for skill in skills_list])\n",
    "    # Calculate the percentage of work done\n",
    "    percentage_work_done = 100 - mean_days\n",
    "    \n",
    "    record = {\n",
    "        'job_site': job_site,\n",
    "        'skill_days_dict': skills_list,  # This will now be a unique list of dictionaries for each job site\n",
    "        'safety_requirements': random.choice(safety_requirements),\n",
    "        'percentage_work_done': percentage_work_done  # New field showing the percentage of work done\n",
    "    }\n",
    "    records.append(record)\n",
    "\n",
    "with open('job_site.csv', 'w', newline='') as file:\n",
    "    writer = csv.writer(file)\n",
    "    # Update the header row to include the new column\n",
    "    writer.writerow(['job_site', 'skill_days_dict', 'safety_requirements', 'percentage_work_done'])\n",
    "    for record in records:\n",
    "        # Converting the list of dictionaries to a string for CSV writing\n",
    "        skill_days_str = '; '.join([f\"{skill['skill']}: {skill['days']}\" for skill in record['skill_days_dict']])\n",
    "        # Write the new field to the CSV\n",
    "        writer.writerow([record['job_site'], skill_days_str, record['safety_requirements'], f\"{record['percentage_work_done']:.2f}\"])"
   ]
  },
  {
   "cell_type": "code",
   "execution_count": 18,
   "metadata": {},
   "outputs": [],
   "source": [
    "import pandas as pd\n",
    "import os\n",
    "\n",
    "# Create a directory to store the ranks folder\n",
    "os.makedirs('ranks', exist_ok=True)\n",
    "\n",
    "# Read the generated workers data from the CSV file\n",
    "df = pd.read_csv('generated_workers.csv')\n",
    "\n",
    "# Group the workers by skill set\n",
    "grouped = df.groupby('skill_set')\n",
    "\n",
    "# Iterate over each skill set group\n",
    "for skill_set, group in grouped:\n",
    "    # Sort the group by productivity score in descending order\n",
    "    ranked_group = group.sort_values('productivity_score', ascending=False)\n",
    "    \n",
    "    # Create a separate folder for each skill set\n",
    "    folder_path = os.path.join('ranks', skill_set)\n",
    "    os.makedirs(folder_path, exist_ok=True)\n",
    "    \n",
    "    # Save the ranked group to a CSV file in the corresponding folder\n",
    "    file_path = os.path.join(folder_path, 'skill_rank.csv')\n",
    "    ranked_group.to_csv(file_path, index=False)\n"
   ]
  },
  {
   "cell_type": "code",
   "execution_count": 27,
   "metadata": {},
   "outputs": [
    {
     "name": "stdout",
     "output_type": "stream",
     "text": [
      "   Job Site ID                      Skill  Percentage\n",
      "0            A                   Plumbing    2.255639\n",
      "1            A                 Electrical    4.010025\n",
      "2            A                  Carpentry   14.786967\n",
      "3            A                   Painting   13.784461\n",
      "4            A                Landscaping    2.506266\n",
      "..         ...                        ...         ...\n",
      "95           J                       HVAC    5.222437\n",
      "96           J                    Roofing   10.831721\n",
      "97           J                    Drywall    3.288201\n",
      "98           J                   Flooring   18.762089\n",
      "99           J  Heavy Machinery Operation   11.218569\n",
      "\n",
      "[100 rows x 3 columns]\n"
     ]
    }
   ],
   "source": [
    "import pandas as pd\n",
    "\n",
    "\n",
    "# Initialize a list to store job site ID, skill, and percentage\n",
    "skill_percentages = []\n",
    "\n",
    "# Iterate through each row in the DataFrame\n",
    "for index, row in df_job_sites.iterrows():\n",
    "    # Split the string by ';' to get individual skill-day pairs\n",
    "    skill_days_pairs = row['skill_days_dict'].split(';')\n",
    "    \n",
    "    # Initialize a variable to store total days for the current job site\n",
    "    total_days_current_job_site = sum(int(pair.split(':')[1].strip()) for pair in skill_days_pairs)\n",
    "    \n",
    "    # Iterate through the pairs again to calculate the percentage for each skill\n",
    "    for pair in skill_days_pairs:\n",
    "        skill, days = pair.split(':')\n",
    "        skill = skill.strip()\n",
    "        days = int(days.strip())\n",
    "        \n",
    "        # Calculate the percentage of days for the current skill\n",
    "        skill_percentage = (days / total_days_current_job_site) * 100 if total_days_current_job_site > 0 else 0\n",
    "        \n",
    "        # Append the job site ID (or name), skill, and percentage to the list\n",
    "        skill_percentages.append([row['job_site'], skill, skill_percentage])  # Assuming there's a 'job_site_id' column\n",
    "\n",
    "# Convert the list to a DataFrame\n",
    "df_skill_percentages = pd.DataFrame(skill_percentages, columns=['Job Site ID', 'Skill', 'Percentage'])\n",
    "\n",
    "print(df_skill_percentages)"
   ]
  },
  {
   "cell_type": "code",
   "execution_count": null,
   "metadata": {},
   "outputs": [],
   "source": []
  }
 ],
 "metadata": {
  "kernelspec": {
   "display_name": "myenv",
   "language": "python",
   "name": "python3"
  },
  "language_info": {
   "codemirror_mode": {
    "name": "ipython",
    "version": 3
   },
   "file_extension": ".py",
   "mimetype": "text/x-python",
   "name": "python",
   "nbconvert_exporter": "python",
   "pygments_lexer": "ipython3",
   "version": "3.10.12"
  }
 },
 "nbformat": 4,
 "nbformat_minor": 2
}
